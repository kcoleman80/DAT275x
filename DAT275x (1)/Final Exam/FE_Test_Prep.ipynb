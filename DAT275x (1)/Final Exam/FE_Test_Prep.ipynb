{
  "cells": [
    {
      "metadata": {
        "trusted": true
      },
      "cell_type": "code",
      "source": "import pandas as pd\nimport numpy as np\nimport matplotlib.pyplot as plt\nimport seaborn as sns\nfrom datetime import datetime,time,timedelta,date\nimport math\nfrom pandas.plotting import scatter_matrix\n%matplotlib inline",
      "execution_count": 13,
      "outputs": []
    },
    {
      "metadata": {
        "trusted": true
      },
      "cell_type": "code",
      "source": "df = pd.read_csv('AW_test.csv',parse_dates=[13])",
      "execution_count": 14,
      "outputs": []
    },
    {
      "metadata": {
        "trusted": true
      },
      "cell_type": "code",
      "source": "df.info()",
      "execution_count": 15,
      "outputs": [
        {
          "output_type": "stream",
          "text": "<class 'pandas.core.frame.DataFrame'>\nRangeIndex: 500 entries, 0 to 499\nData columns (total 23 columns):\nCustomerID              500 non-null int64\nTitle                   4 non-null object\nFirstName               500 non-null object\nMiddleName              284 non-null object\nLastName                500 non-null object\nSuffix                  1 non-null object\nAddressLine1            500 non-null object\nAddressLine2            13 non-null object\nCity                    500 non-null object\nStateProvinceName       500 non-null object\nCountryRegionName       500 non-null object\nPostalCode              500 non-null object\nPhoneNumber             500 non-null object\nBirthDate               500 non-null datetime64[ns]\nEducation               500 non-null object\nOccupation              500 non-null object\nGender                  500 non-null object\nMaritalStatus           500 non-null object\nHomeOwnerFlag           500 non-null int64\nNumberCarsOwned         500 non-null int64\nNumberChildrenAtHome    500 non-null int64\nTotalChildren           500 non-null int64\nYearlyIncome            500 non-null int64\ndtypes: datetime64[ns](1), int64(6), object(16)\nmemory usage: 89.9+ KB\n",
          "name": "stdout"
        }
      ]
    },
    {
      "metadata": {
        "trusted": true
      },
      "cell_type": "code",
      "source": "df['Ref_date']=date(year = 1998, month = 1, day = 1)\ndf['Ref_date']=pd.to_datetime(df['Ref_date'])\ndf['Age_days'] = df['Ref_date']- df['BirthDate']\ndf['Age'] =  df['Age_days'].astype('timedelta64[Y]')",
      "execution_count": 16,
      "outputs": []
    },
    {
      "metadata": {
        "trusted": true
      },
      "cell_type": "code",
      "source": "# drop unneccessary columns\ndf.drop(['Title','FirstName','LastName','MiddleName','Suffix','AddressLine1',\n           'AddressLine2','StateProvinceName','PhoneNumber','City','CountryRegionName','HomeOwnerFlag',\n            'NumberCarsOwned'], axis=1, inplace=True)",
      "execution_count": 17,
      "outputs": []
    },
    {
      "metadata": {
        "trusted": true
      },
      "cell_type": "code",
      "source": "df.drop(['BirthDate','PostalCode','TotalChildren','Ref_date','Age_days'], \n          axis=1, inplace=True)",
      "execution_count": 18,
      "outputs": []
    },
    {
      "metadata": {
        "trusted": true
      },
      "cell_type": "code",
      "source": "df.dtypes",
      "execution_count": 19,
      "outputs": [
        {
          "output_type": "execute_result",
          "execution_count": 19,
          "data": {
            "text/plain": "CustomerID                int64\nEducation                object\nOccupation               object\nGender                   object\nMaritalStatus            object\nNumberChildrenAtHome      int64\nYearlyIncome              int64\nAge                     float64\ndtype: object"
          },
          "metadata": {}
        }
      ]
    },
    {
      "metadata": {
        "trusted": true
      },
      "cell_type": "code",
      "source": "df['log_Income'] = np.log(df['YearlyIncome'])\ndf['log_Age'] = np.log(df['Age'])",
      "execution_count": 20,
      "outputs": []
    },
    {
      "metadata": {
        "trusted": true
      },
      "cell_type": "code",
      "source": "df.drop(['log_Age','log_Income'], axis=1, inplace=True)",
      "execution_count": 21,
      "outputs": []
    },
    {
      "metadata": {
        "trusted": true
      },
      "cell_type": "code",
      "source": "df.info()",
      "execution_count": 22,
      "outputs": [
        {
          "output_type": "stream",
          "text": "<class 'pandas.core.frame.DataFrame'>\nRangeIndex: 500 entries, 0 to 499\nData columns (total 8 columns):\nCustomerID              500 non-null int64\nEducation               500 non-null object\nOccupation              500 non-null object\nGender                  500 non-null object\nMaritalStatus           500 non-null object\nNumberChildrenAtHome    500 non-null int64\nlog_Income              500 non-null float64\nlog_Age                 500 non-null float64\ndtypes: float64(2), int64(2), object(4)\nmemory usage: 31.3+ KB\n",
          "name": "stdout"
        }
      ]
    },
    {
      "metadata": {
        "trusted": true
      },
      "cell_type": "code",
      "source": "df.to_csv('AW_Test_Preped.csv', index = False, header = True)",
      "execution_count": 23,
      "outputs": []
    },
    {
      "metadata": {
        "trusted": true
      },
      "cell_type": "code",
      "source": "",
      "execution_count": null,
      "outputs": []
    }
  ],
  "metadata": {
    "kernelspec": {
      "name": "python36",
      "display_name": "Python 3.6",
      "language": "python"
    },
    "language_info": {
      "mimetype": "text/x-python",
      "nbconvert_exporter": "python",
      "name": "python",
      "pygments_lexer": "ipython3",
      "version": "3.6.6",
      "file_extension": ".py",
      "codemirror_mode": {
        "version": 3,
        "name": "ipython"
      }
    }
  },
  "nbformat": 4,
  "nbformat_minor": 2
}